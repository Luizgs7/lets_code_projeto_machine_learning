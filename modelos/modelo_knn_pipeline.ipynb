{
  "cells": [
    {
      "cell_type": "code",
      "execution_count": 20,
      "metadata": {
        "id": "XKEfJWWX75Jd"
      },
      "outputs": [],
      "source": [
        "import pandas as pd\n",
        "import numpy as np\n",
        "import matplotlib.pyplot as plt\n",
        "import seaborn as sns\n",
        "\n",
        "from sklearn.model_selection import train_test_split\n",
        "from sklearn.preprocessing import StandardScaler\n",
        "from sklearn.neighbors import KNeighborsRegressor\n",
        "from sklearn.neighbors import KNeighborsClassifier\n",
        "from sklearn.metrics import mean_absolute_error, mean_squared_error\n",
        "from sklearn.experimental import enable_iterative_imputer\n",
        "from sklearn.impute import IterativeImputer, SimpleImputer\n",
        "from imblearn.over_sampling import SMOTE\n",
        "from sklearn.pipeline import make_pipeline, Pipeline\n",
        "from imblearn.pipeline import Pipeline as imbPipeline\n",
        "from sklearn.preprocessing import MinMaxScaler\n",
        "from sklearn.model_selection import GridSearchCV\n",
        "#from sklearn.pipeline import make_pipeline, Pipeline\n",
        "from sklearn.neighbors import KNeighborsClassifier, NeighborhoodComponentsAnalysis\n",
        "from sklearn.metrics import accuracy_score, precision_score, make_scorer\n",
        "\n",
        "from sklearn.metrics import classification_report, confusion_matrix, roc_auc_score, accuracy_score\n",
        "from sklearn import metrics\n",
        "\n",
        "\n",
        "import warnings\n",
        "warnings.filterwarnings(\"ignore\")"
      ]
    },
    {
      "cell_type": "code",
      "execution_count": 2,
      "metadata": {
        "colab": {
          "base_uri": "https://localhost:8080/"
        },
        "id": "fE89sCNd8T5T",
        "outputId": "ac53b75b-be99-42ea-fc00-6f89b810bea0"
      },
      "outputs": [
        {
          "name": "stdout",
          "output_type": "stream",
          "text": [
            "Mounted at /content/drive\n"
          ]
        }
      ],
      "source": [
        "from google.colab import drive\n",
        "drive.mount('/content/drive')"
      ]
    },
    {
      "cell_type": "code",
      "execution_count": 3,
      "metadata": {
        "id": "pYg9n3SJ8c8T"
      },
      "outputs": [],
      "source": [
        "def reading_dataframe(path, sep=None):\n",
        "\n",
        "  \"\"\" Leitura de um arquivo csv\"\"\"\n",
        "\n",
        "  dataframe = pd.read_csv(path, sep=sep)\n",
        "  return dataframe\n",
        "\n",
        "\n",
        "def column_empty(dataframe):\n",
        "\n",
        "  \"\"\" Verifica as colunas que possuem dados vazios\"\"\"\n",
        "\n",
        "  for col in (dataframe):\n",
        "    if(dataframe[col].isnull().any()):\n",
        "        print(col)\n",
        "\n",
        "def values_estimate():\n",
        "  return IterativeImputer()"
      ]
    },
    {
      "cell_type": "code",
      "execution_count": 4,
      "metadata": {
        "id": "OuzB08d88jln"
      },
      "outputs": [],
      "source": [
        "df_credit_train= reading_dataframe(\"/content/drive/MyDrive/curso-lets-code/machine-learning_I/data/application_train.csv\")\n",
        "\n",
        "df_credit_test = reading_dataframe(\"/content/drive/MyDrive/curso-lets-code/machine-learning_I/data/application_test_student.csv\")"
      ]
    },
    {
      "cell_type": "code",
      "execution_count": 5,
      "metadata": {
        "colab": {
          "base_uri": "https://localhost:8080/",
          "height": 300
        },
        "id": "g34jYlKQ8rSm",
        "outputId": "d1908449-6178-4f76-c393-9dbe653fdd3b"
      },
      "outputs": [
        {
          "data": {
            "text/html": [
              "\n",
              "  <div id=\"df-18981298-33b7-45e3-bf09-de93014567ab\">\n",
              "    <div class=\"colab-df-container\">\n",
              "      <div>\n",
              "<style scoped>\n",
              "    .dataframe tbody tr th:only-of-type {\n",
              "        vertical-align: middle;\n",
              "    }\n",
              "\n",
              "    .dataframe tbody tr th {\n",
              "        vertical-align: top;\n",
              "    }\n",
              "\n",
              "    .dataframe thead th {\n",
              "        text-align: right;\n",
              "    }\n",
              "</style>\n",
              "<table border=\"1\" class=\"dataframe\">\n",
              "  <thead>\n",
              "    <tr style=\"text-align: right;\">\n",
              "      <th></th>\n",
              "      <th>SK_ID_CURR</th>\n",
              "      <th>TARGET</th>\n",
              "      <th>NAME_CONTRACT_TYPE</th>\n",
              "      <th>CODE_GENDER</th>\n",
              "      <th>FLAG_OWN_CAR</th>\n",
              "      <th>FLAG_OWN_REALTY</th>\n",
              "      <th>CNT_CHILDREN</th>\n",
              "      <th>AMT_INCOME_TOTAL</th>\n",
              "      <th>AMT_CREDIT</th>\n",
              "      <th>AMT_ANNUITY</th>\n",
              "      <th>...</th>\n",
              "      <th>FLAG_DOCUMENT_18</th>\n",
              "      <th>FLAG_DOCUMENT_19</th>\n",
              "      <th>FLAG_DOCUMENT_20</th>\n",
              "      <th>FLAG_DOCUMENT_21</th>\n",
              "      <th>AMT_REQ_CREDIT_BUREAU_HOUR</th>\n",
              "      <th>AMT_REQ_CREDIT_BUREAU_DAY</th>\n",
              "      <th>AMT_REQ_CREDIT_BUREAU_WEEK</th>\n",
              "      <th>AMT_REQ_CREDIT_BUREAU_MON</th>\n",
              "      <th>AMT_REQ_CREDIT_BUREAU_QRT</th>\n",
              "      <th>AMT_REQ_CREDIT_BUREAU_YEAR</th>\n",
              "    </tr>\n",
              "  </thead>\n",
              "  <tbody>\n",
              "    <tr>\n",
              "      <th>0</th>\n",
              "      <td>456162</td>\n",
              "      <td>0</td>\n",
              "      <td>Cash loans</td>\n",
              "      <td>F</td>\n",
              "      <td>N</td>\n",
              "      <td>N</td>\n",
              "      <td>0</td>\n",
              "      <td>112500.0</td>\n",
              "      <td>700830.0</td>\n",
              "      <td>22738.5</td>\n",
              "      <td>...</td>\n",
              "      <td>0</td>\n",
              "      <td>0</td>\n",
              "      <td>0</td>\n",
              "      <td>0</td>\n",
              "      <td>0.0</td>\n",
              "      <td>0.0</td>\n",
              "      <td>0.0</td>\n",
              "      <td>0.0</td>\n",
              "      <td>0.0</td>\n",
              "      <td>1.0</td>\n",
              "    </tr>\n",
              "    <tr>\n",
              "      <th>1</th>\n",
              "      <td>134978</td>\n",
              "      <td>0</td>\n",
              "      <td>Cash loans</td>\n",
              "      <td>F</td>\n",
              "      <td>N</td>\n",
              "      <td>N</td>\n",
              "      <td>0</td>\n",
              "      <td>90000.0</td>\n",
              "      <td>375322.5</td>\n",
              "      <td>14422.5</td>\n",
              "      <td>...</td>\n",
              "      <td>0</td>\n",
              "      <td>0</td>\n",
              "      <td>0</td>\n",
              "      <td>0</td>\n",
              "      <td>0.0</td>\n",
              "      <td>0.0</td>\n",
              "      <td>0.0</td>\n",
              "      <td>1.0</td>\n",
              "      <td>0.0</td>\n",
              "      <td>3.0</td>\n",
              "    </tr>\n",
              "    <tr>\n",
              "      <th>2</th>\n",
              "      <td>318952</td>\n",
              "      <td>0</td>\n",
              "      <td>Cash loans</td>\n",
              "      <td>M</td>\n",
              "      <td>Y</td>\n",
              "      <td>N</td>\n",
              "      <td>0</td>\n",
              "      <td>180000.0</td>\n",
              "      <td>544491.0</td>\n",
              "      <td>16047.0</td>\n",
              "      <td>...</td>\n",
              "      <td>0</td>\n",
              "      <td>0</td>\n",
              "      <td>0</td>\n",
              "      <td>0</td>\n",
              "      <td>0.0</td>\n",
              "      <td>0.0</td>\n",
              "      <td>0.0</td>\n",
              "      <td>1.0</td>\n",
              "      <td>1.0</td>\n",
              "      <td>3.0</td>\n",
              "    </tr>\n",
              "    <tr>\n",
              "      <th>3</th>\n",
              "      <td>361264</td>\n",
              "      <td>0</td>\n",
              "      <td>Cash loans</td>\n",
              "      <td>F</td>\n",
              "      <td>N</td>\n",
              "      <td>Y</td>\n",
              "      <td>0</td>\n",
              "      <td>270000.0</td>\n",
              "      <td>814041.0</td>\n",
              "      <td>28971.0</td>\n",
              "      <td>...</td>\n",
              "      <td>0</td>\n",
              "      <td>0</td>\n",
              "      <td>0</td>\n",
              "      <td>0</td>\n",
              "      <td>0.0</td>\n",
              "      <td>0.0</td>\n",
              "      <td>0.0</td>\n",
              "      <td>0.0</td>\n",
              "      <td>1.0</td>\n",
              "      <td>4.0</td>\n",
              "    </tr>\n",
              "    <tr>\n",
              "      <th>4</th>\n",
              "      <td>260639</td>\n",
              "      <td>0</td>\n",
              "      <td>Cash loans</td>\n",
              "      <td>F</td>\n",
              "      <td>N</td>\n",
              "      <td>Y</td>\n",
              "      <td>0</td>\n",
              "      <td>144000.0</td>\n",
              "      <td>675000.0</td>\n",
              "      <td>21906.0</td>\n",
              "      <td>...</td>\n",
              "      <td>0</td>\n",
              "      <td>0</td>\n",
              "      <td>0</td>\n",
              "      <td>0</td>\n",
              "      <td>0.0</td>\n",
              "      <td>0.0</td>\n",
              "      <td>0.0</td>\n",
              "      <td>10.0</td>\n",
              "      <td>0.0</td>\n",
              "      <td>0.0</td>\n",
              "    </tr>\n",
              "  </tbody>\n",
              "</table>\n",
              "<p>5 rows × 122 columns</p>\n",
              "</div>\n",
              "      <button class=\"colab-df-convert\" onclick=\"convertToInteractive('df-18981298-33b7-45e3-bf09-de93014567ab')\"\n",
              "              title=\"Convert this dataframe to an interactive table.\"\n",
              "              style=\"display:none;\">\n",
              "        \n",
              "  <svg xmlns=\"http://www.w3.org/2000/svg\" height=\"24px\"viewBox=\"0 0 24 24\"\n",
              "       width=\"24px\">\n",
              "    <path d=\"M0 0h24v24H0V0z\" fill=\"none\"/>\n",
              "    <path d=\"M18.56 5.44l.94 2.06.94-2.06 2.06-.94-2.06-.94-.94-2.06-.94 2.06-2.06.94zm-11 1L8.5 8.5l.94-2.06 2.06-.94-2.06-.94L8.5 2.5l-.94 2.06-2.06.94zm10 10l.94 2.06.94-2.06 2.06-.94-2.06-.94-.94-2.06-.94 2.06-2.06.94z\"/><path d=\"M17.41 7.96l-1.37-1.37c-.4-.4-.92-.59-1.43-.59-.52 0-1.04.2-1.43.59L10.3 9.45l-7.72 7.72c-.78.78-.78 2.05 0 2.83L4 21.41c.39.39.9.59 1.41.59.51 0 1.02-.2 1.41-.59l7.78-7.78 2.81-2.81c.8-.78.8-2.07 0-2.86zM5.41 20L4 18.59l7.72-7.72 1.47 1.35L5.41 20z\"/>\n",
              "  </svg>\n",
              "      </button>\n",
              "      \n",
              "  <style>\n",
              "    .colab-df-container {\n",
              "      display:flex;\n",
              "      flex-wrap:wrap;\n",
              "      gap: 12px;\n",
              "    }\n",
              "\n",
              "    .colab-df-convert {\n",
              "      background-color: #E8F0FE;\n",
              "      border: none;\n",
              "      border-radius: 50%;\n",
              "      cursor: pointer;\n",
              "      display: none;\n",
              "      fill: #1967D2;\n",
              "      height: 32px;\n",
              "      padding: 0 0 0 0;\n",
              "      width: 32px;\n",
              "    }\n",
              "\n",
              "    .colab-df-convert:hover {\n",
              "      background-color: #E2EBFA;\n",
              "      box-shadow: 0px 1px 2px rgba(60, 64, 67, 0.3), 0px 1px 3px 1px rgba(60, 64, 67, 0.15);\n",
              "      fill: #174EA6;\n",
              "    }\n",
              "\n",
              "    [theme=dark] .colab-df-convert {\n",
              "      background-color: #3B4455;\n",
              "      fill: #D2E3FC;\n",
              "    }\n",
              "\n",
              "    [theme=dark] .colab-df-convert:hover {\n",
              "      background-color: #434B5C;\n",
              "      box-shadow: 0px 1px 3px 1px rgba(0, 0, 0, 0.15);\n",
              "      filter: drop-shadow(0px 1px 2px rgba(0, 0, 0, 0.3));\n",
              "      fill: #FFFFFF;\n",
              "    }\n",
              "  </style>\n",
              "\n",
              "      <script>\n",
              "        const buttonEl =\n",
              "          document.querySelector('#df-18981298-33b7-45e3-bf09-de93014567ab button.colab-df-convert');\n",
              "        buttonEl.style.display =\n",
              "          google.colab.kernel.accessAllowed ? 'block' : 'none';\n",
              "\n",
              "        async function convertToInteractive(key) {\n",
              "          const element = document.querySelector('#df-18981298-33b7-45e3-bf09-de93014567ab');\n",
              "          const dataTable =\n",
              "            await google.colab.kernel.invokeFunction('convertToInteractive',\n",
              "                                                     [key], {});\n",
              "          if (!dataTable) return;\n",
              "\n",
              "          const docLinkHtml = 'Like what you see? Visit the ' +\n",
              "            '<a target=\"_blank\" href=https://colab.research.google.com/notebooks/data_table.ipynb>data table notebook</a>'\n",
              "            + ' to learn more about interactive tables.';\n",
              "          element.innerHTML = '';\n",
              "          dataTable['output_type'] = 'display_data';\n",
              "          await google.colab.output.renderOutput(dataTable, element);\n",
              "          const docLink = document.createElement('div');\n",
              "          docLink.innerHTML = docLinkHtml;\n",
              "          element.appendChild(docLink);\n",
              "        }\n",
              "      </script>\n",
              "    </div>\n",
              "  </div>\n",
              "  "
            ],
            "text/plain": [
              "   SK_ID_CURR  TARGET NAME_CONTRACT_TYPE CODE_GENDER FLAG_OWN_CAR  \\\n",
              "0      456162       0         Cash loans           F            N   \n",
              "1      134978       0         Cash loans           F            N   \n",
              "2      318952       0         Cash loans           M            Y   \n",
              "3      361264       0         Cash loans           F            N   \n",
              "4      260639       0         Cash loans           F            N   \n",
              "\n",
              "  FLAG_OWN_REALTY  CNT_CHILDREN  AMT_INCOME_TOTAL  AMT_CREDIT  AMT_ANNUITY  \\\n",
              "0               N             0          112500.0    700830.0      22738.5   \n",
              "1               N             0           90000.0    375322.5      14422.5   \n",
              "2               N             0          180000.0    544491.0      16047.0   \n",
              "3               Y             0          270000.0    814041.0      28971.0   \n",
              "4               Y             0          144000.0    675000.0      21906.0   \n",
              "\n",
              "   ...  FLAG_DOCUMENT_18 FLAG_DOCUMENT_19 FLAG_DOCUMENT_20 FLAG_DOCUMENT_21  \\\n",
              "0  ...                 0                0                0                0   \n",
              "1  ...                 0                0                0                0   \n",
              "2  ...                 0                0                0                0   \n",
              "3  ...                 0                0                0                0   \n",
              "4  ...                 0                0                0                0   \n",
              "\n",
              "  AMT_REQ_CREDIT_BUREAU_HOUR AMT_REQ_CREDIT_BUREAU_DAY  \\\n",
              "0                        0.0                       0.0   \n",
              "1                        0.0                       0.0   \n",
              "2                        0.0                       0.0   \n",
              "3                        0.0                       0.0   \n",
              "4                        0.0                       0.0   \n",
              "\n",
              "   AMT_REQ_CREDIT_BUREAU_WEEK  AMT_REQ_CREDIT_BUREAU_MON  \\\n",
              "0                         0.0                        0.0   \n",
              "1                         0.0                        1.0   \n",
              "2                         0.0                        1.0   \n",
              "3                         0.0                        0.0   \n",
              "4                         0.0                       10.0   \n",
              "\n",
              "   AMT_REQ_CREDIT_BUREAU_QRT  AMT_REQ_CREDIT_BUREAU_YEAR  \n",
              "0                        0.0                         1.0  \n",
              "1                        0.0                         3.0  \n",
              "2                        1.0                         3.0  \n",
              "3                        1.0                         4.0  \n",
              "4                        0.0                         0.0  \n",
              "\n",
              "[5 rows x 122 columns]"
            ]
          },
          "execution_count": 5,
          "metadata": {},
          "output_type": "execute_result"
        }
      ],
      "source": [
        "df_credit_train.head()"
      ]
    },
    {
      "cell_type": "markdown",
      "metadata": {
        "id": "nko0gChH80X-"
      },
      "source": [
        "**Critério de seleção de variáveis**\n",
        "\n",
        " -  8 Maiores correlações positivas\n",
        " -  8 Menores correlações negativas"
      ]
    },
    {
      "cell_type": "code",
      "execution_count": 6,
      "metadata": {
        "id": "nbNkioJH83ka"
      },
      "outputs": [],
      "source": [
        "corr_sorting = df_credit_train.corr()['TARGET'].sort_values()"
      ]
    },
    {
      "cell_type": "code",
      "execution_count": 7,
      "metadata": {
        "colab": {
          "base_uri": "https://localhost:8080/"
        },
        "id": "sySp7L1q9F8C",
        "outputId": "8a97bb8e-8626-4c08-fff1-6dfd5c9d841b"
      },
      "outputs": [
        {
          "data": {
            "text/plain": [
              "EXT_SOURCE_3      -0.179246\n",
              "EXT_SOURCE_2      -0.160978\n",
              "EXT_SOURCE_1      -0.158619\n",
              "DAYS_EMPLOYED     -0.044862\n",
              "FLOORSMAX_AVG     -0.043720\n",
              "FLOORSMAX_MEDI    -0.043524\n",
              "FLOORSMAX_MODE    -0.042958\n",
              "AMT_GOODS_PRICE   -0.040060\n",
              "Name: TARGET, dtype: float64"
            ]
          },
          "execution_count": 7,
          "metadata": {},
          "output_type": "execute_result"
        }
      ],
      "source": [
        "corr_sorting.head(n=8)"
      ]
    },
    {
      "cell_type": "code",
      "execution_count": 8,
      "metadata": {
        "colab": {
          "base_uri": "https://localhost:8080/"
        },
        "id": "IKfeayDk9Nim",
        "outputId": "8a5c2501-a349-48ad-bf61-fec2023027b0"
      },
      "outputs": [
        {
          "data": {
            "text/plain": [
              "FLAG_EMP_PHONE                 0.045894\n",
              "REG_CITY_NOT_WORK_CITY         0.050255\n",
              "DAYS_ID_PUBLISH                0.051572\n",
              "DAYS_LAST_PHONE_CHANGE         0.054471\n",
              "REGION_RATING_CLIENT           0.059170\n",
              "REGION_RATING_CLIENT_W_CITY    0.061518\n",
              "DAYS_BIRTH                     0.079414\n",
              "TARGET                         1.000000\n",
              "Name: TARGET, dtype: float64"
            ]
          },
          "execution_count": 8,
          "metadata": {},
          "output_type": "execute_result"
        }
      ],
      "source": [
        "corr_sorting.tail(n=8)"
      ]
    },
    {
      "cell_type": "code",
      "execution_count": 9,
      "metadata": {
        "id": "Hqg0MBqi9vJX"
      },
      "outputs": [],
      "source": [
        "credit_train_8 = df_credit_train[['EXT_SOURCE_3', 'EXT_SOURCE_2','EXT_SOURCE_1','DAYS_EMPLOYED',\n",
        "                                  'FLOORSMAX_AVG','DAYS_LAST_PHONE_CHANGE','REGION_RATING_CLIENT','FLAG_EMP_PHONE','DAYS_BIRTH','TARGET']]"
      ]
    },
    {
      "cell_type": "code",
      "execution_count": 10,
      "metadata": {
        "colab": {
          "base_uri": "https://localhost:8080/",
          "height": 270
        },
        "id": "_PUMhM9_-mea",
        "outputId": "7d6da3b3-859d-40df-b131-8e97bd0fd06c"
      },
      "outputs": [
        {
          "data": {
            "text/html": [
              "\n",
              "  <div id=\"df-e40a1ffc-33fd-4c69-bd73-209dd3219f6a\">\n",
              "    <div class=\"colab-df-container\">\n",
              "      <div>\n",
              "<style scoped>\n",
              "    .dataframe tbody tr th:only-of-type {\n",
              "        vertical-align: middle;\n",
              "    }\n",
              "\n",
              "    .dataframe tbody tr th {\n",
              "        vertical-align: top;\n",
              "    }\n",
              "\n",
              "    .dataframe thead th {\n",
              "        text-align: right;\n",
              "    }\n",
              "</style>\n",
              "<table border=\"1\" class=\"dataframe\">\n",
              "  <thead>\n",
              "    <tr style=\"text-align: right;\">\n",
              "      <th></th>\n",
              "      <th>EXT_SOURCE_3</th>\n",
              "      <th>EXT_SOURCE_2</th>\n",
              "      <th>EXT_SOURCE_1</th>\n",
              "      <th>DAYS_EMPLOYED</th>\n",
              "      <th>FLOORSMAX_AVG</th>\n",
              "      <th>DAYS_LAST_PHONE_CHANGE</th>\n",
              "      <th>REGION_RATING_CLIENT</th>\n",
              "      <th>FLAG_EMP_PHONE</th>\n",
              "      <th>DAYS_BIRTH</th>\n",
              "      <th>TARGET</th>\n",
              "    </tr>\n",
              "  </thead>\n",
              "  <tbody>\n",
              "    <tr>\n",
              "      <th>0</th>\n",
              "      <td>0.171468</td>\n",
              "      <td>0.699373</td>\n",
              "      <td>NaN</td>\n",
              "      <td>-813</td>\n",
              "      <td>0.1667</td>\n",
              "      <td>-589.0</td>\n",
              "      <td>2</td>\n",
              "      <td>1</td>\n",
              "      <td>-8676</td>\n",
              "      <td>0</td>\n",
              "    </tr>\n",
              "    <tr>\n",
              "      <th>1</th>\n",
              "      <td>0.768808</td>\n",
              "      <td>0.199651</td>\n",
              "      <td>0.541385</td>\n",
              "      <td>-223</td>\n",
              "      <td>0.0417</td>\n",
              "      <td>-1409.0</td>\n",
              "      <td>2</td>\n",
              "      <td>1</td>\n",
              "      <td>-13583</td>\n",
              "      <td>0</td>\n",
              "    </tr>\n",
              "    <tr>\n",
              "      <th>2</th>\n",
              "      <td>0.626304</td>\n",
              "      <td>0.704880</td>\n",
              "      <td>NaN</td>\n",
              "      <td>-6202</td>\n",
              "      <td>NaN</td>\n",
              "      <td>-675.0</td>\n",
              "      <td>2</td>\n",
              "      <td>1</td>\n",
              "      <td>-13993</td>\n",
              "      <td>0</td>\n",
              "    </tr>\n",
              "    <tr>\n",
              "      <th>3</th>\n",
              "      <td>0.810618</td>\n",
              "      <td>0.724576</td>\n",
              "      <td>NaN</td>\n",
              "      <td>365243</td>\n",
              "      <td>NaN</td>\n",
              "      <td>-1588.0</td>\n",
              "      <td>1</td>\n",
              "      <td>0</td>\n",
              "      <td>-22425</td>\n",
              "      <td>0</td>\n",
              "    </tr>\n",
              "    <tr>\n",
              "      <th>4</th>\n",
              "      <td>0.331251</td>\n",
              "      <td>0.706310</td>\n",
              "      <td>0.592466</td>\n",
              "      <td>-2763</td>\n",
              "      <td>0.1667</td>\n",
              "      <td>0.0</td>\n",
              "      <td>2</td>\n",
              "      <td>1</td>\n",
              "      <td>-18839</td>\n",
              "      <td>0</td>\n",
              "    </tr>\n",
              "  </tbody>\n",
              "</table>\n",
              "</div>\n",
              "      <button class=\"colab-df-convert\" onclick=\"convertToInteractive('df-e40a1ffc-33fd-4c69-bd73-209dd3219f6a')\"\n",
              "              title=\"Convert this dataframe to an interactive table.\"\n",
              "              style=\"display:none;\">\n",
              "        \n",
              "  <svg xmlns=\"http://www.w3.org/2000/svg\" height=\"24px\"viewBox=\"0 0 24 24\"\n",
              "       width=\"24px\">\n",
              "    <path d=\"M0 0h24v24H0V0z\" fill=\"none\"/>\n",
              "    <path d=\"M18.56 5.44l.94 2.06.94-2.06 2.06-.94-2.06-.94-.94-2.06-.94 2.06-2.06.94zm-11 1L8.5 8.5l.94-2.06 2.06-.94-2.06-.94L8.5 2.5l-.94 2.06-2.06.94zm10 10l.94 2.06.94-2.06 2.06-.94-2.06-.94-.94-2.06-.94 2.06-2.06.94z\"/><path d=\"M17.41 7.96l-1.37-1.37c-.4-.4-.92-.59-1.43-.59-.52 0-1.04.2-1.43.59L10.3 9.45l-7.72 7.72c-.78.78-.78 2.05 0 2.83L4 21.41c.39.39.9.59 1.41.59.51 0 1.02-.2 1.41-.59l7.78-7.78 2.81-2.81c.8-.78.8-2.07 0-2.86zM5.41 20L4 18.59l7.72-7.72 1.47 1.35L5.41 20z\"/>\n",
              "  </svg>\n",
              "      </button>\n",
              "      \n",
              "  <style>\n",
              "    .colab-df-container {\n",
              "      display:flex;\n",
              "      flex-wrap:wrap;\n",
              "      gap: 12px;\n",
              "    }\n",
              "\n",
              "    .colab-df-convert {\n",
              "      background-color: #E8F0FE;\n",
              "      border: none;\n",
              "      border-radius: 50%;\n",
              "      cursor: pointer;\n",
              "      display: none;\n",
              "      fill: #1967D2;\n",
              "      height: 32px;\n",
              "      padding: 0 0 0 0;\n",
              "      width: 32px;\n",
              "    }\n",
              "\n",
              "    .colab-df-convert:hover {\n",
              "      background-color: #E2EBFA;\n",
              "      box-shadow: 0px 1px 2px rgba(60, 64, 67, 0.3), 0px 1px 3px 1px rgba(60, 64, 67, 0.15);\n",
              "      fill: #174EA6;\n",
              "    }\n",
              "\n",
              "    [theme=dark] .colab-df-convert {\n",
              "      background-color: #3B4455;\n",
              "      fill: #D2E3FC;\n",
              "    }\n",
              "\n",
              "    [theme=dark] .colab-df-convert:hover {\n",
              "      background-color: #434B5C;\n",
              "      box-shadow: 0px 1px 3px 1px rgba(0, 0, 0, 0.15);\n",
              "      filter: drop-shadow(0px 1px 2px rgba(0, 0, 0, 0.3));\n",
              "      fill: #FFFFFF;\n",
              "    }\n",
              "  </style>\n",
              "\n",
              "      <script>\n",
              "        const buttonEl =\n",
              "          document.querySelector('#df-e40a1ffc-33fd-4c69-bd73-209dd3219f6a button.colab-df-convert');\n",
              "        buttonEl.style.display =\n",
              "          google.colab.kernel.accessAllowed ? 'block' : 'none';\n",
              "\n",
              "        async function convertToInteractive(key) {\n",
              "          const element = document.querySelector('#df-e40a1ffc-33fd-4c69-bd73-209dd3219f6a');\n",
              "          const dataTable =\n",
              "            await google.colab.kernel.invokeFunction('convertToInteractive',\n",
              "                                                     [key], {});\n",
              "          if (!dataTable) return;\n",
              "\n",
              "          const docLinkHtml = 'Like what you see? Visit the ' +\n",
              "            '<a target=\"_blank\" href=https://colab.research.google.com/notebooks/data_table.ipynb>data table notebook</a>'\n",
              "            + ' to learn more about interactive tables.';\n",
              "          element.innerHTML = '';\n",
              "          dataTable['output_type'] = 'display_data';\n",
              "          await google.colab.output.renderOutput(dataTable, element);\n",
              "          const docLink = document.createElement('div');\n",
              "          docLink.innerHTML = docLinkHtml;\n",
              "          element.appendChild(docLink);\n",
              "        }\n",
              "      </script>\n",
              "    </div>\n",
              "  </div>\n",
              "  "
            ],
            "text/plain": [
              "   EXT_SOURCE_3  EXT_SOURCE_2  EXT_SOURCE_1  DAYS_EMPLOYED  FLOORSMAX_AVG  \\\n",
              "0      0.171468      0.699373           NaN           -813         0.1667   \n",
              "1      0.768808      0.199651      0.541385           -223         0.0417   \n",
              "2      0.626304      0.704880           NaN          -6202            NaN   \n",
              "3      0.810618      0.724576           NaN         365243            NaN   \n",
              "4      0.331251      0.706310      0.592466          -2763         0.1667   \n",
              "\n",
              "   DAYS_LAST_PHONE_CHANGE  REGION_RATING_CLIENT  FLAG_EMP_PHONE  DAYS_BIRTH  \\\n",
              "0                  -589.0                     2               1       -8676   \n",
              "1                 -1409.0                     2               1      -13583   \n",
              "2                  -675.0                     2               1      -13993   \n",
              "3                 -1588.0                     1               0      -22425   \n",
              "4                     0.0                     2               1      -18839   \n",
              "\n",
              "   TARGET  \n",
              "0       0  \n",
              "1       0  \n",
              "2       0  \n",
              "3       0  \n",
              "4       0  "
            ]
          },
          "execution_count": 10,
          "metadata": {},
          "output_type": "execute_result"
        }
      ],
      "source": [
        "credit_train_8.head()"
      ]
    },
    {
      "cell_type": "code",
      "execution_count": 11,
      "metadata": {
        "colab": {
          "base_uri": "https://localhost:8080/"
        },
        "id": "V4G1CA09-txY",
        "outputId": "88a0b7d7-8c0c-483b-f052-528180cb9e69"
      },
      "outputs": [
        {
          "name": "stdout",
          "output_type": "stream",
          "text": [
            "EXT_SOURCE_3\n",
            "EXT_SOURCE_2\n",
            "EXT_SOURCE_1\n",
            "FLOORSMAX_AVG\n",
            "DAYS_LAST_PHONE_CHANGE\n"
          ]
        }
      ],
      "source": [
        "column_empty(credit_train_8)"
      ]
    },
    {
      "cell_type": "code",
      "execution_count": 12,
      "metadata": {
        "colab": {
          "base_uri": "https://localhost:8080/"
        },
        "id": "oKrUnEij_rpq",
        "outputId": "a134c543-f7a4-4ed3-ff7a-0f36196a8d7d"
      },
      "outputs": [
        {
          "data": {
            "text/plain": [
              "EXT_SOURCE_3              19.81\n",
              "EXT_SOURCE_2               0.22\n",
              "EXT_SOURCE_1              56.42\n",
              "DAYS_EMPLOYED              0.00\n",
              "FLOORSMAX_AVG             49.79\n",
              "DAYS_LAST_PHONE_CHANGE     0.00\n",
              "REGION_RATING_CLIENT       0.00\n",
              "FLAG_EMP_PHONE             0.00\n",
              "DAYS_BIRTH                 0.00\n",
              "TARGET                     0.00\n",
              "dtype: float64"
            ]
          },
          "execution_count": 12,
          "metadata": {},
          "output_type": "execute_result"
        }
      ],
      "source": [
        "credit_train_8.isnull().mean().round(4)*100"
      ]
    },
    {
      "cell_type": "markdown",
      "metadata": {
        "id": "zgRZr9g4BZUQ"
      },
      "source": [
        "**Transformação dos Dados**\n",
        "- Aplicação do método SimpleImputer para tratar os valores vazios."
      ]
    },
    {
      "cell_type": "code",
      "execution_count": null,
      "metadata": {
        "id": "PWsy2fsGC-nO"
      },
      "outputs": [],
      "source": [
        "# imputer = SimpleImputer(strategy='median', missing_values=np.nan)\n",
        "\n",
        "# imputer = imputer.fit(credit_train_8[['EXT_SOURCE_3','EXT_SOURCE_2','EXT_SOURCE_1', 'FLOORSMAX_AVG']])\n",
        "# credit_train_8[['EXT_SOURCE_3','EXT_SOURCE_2','EXT_SOURCE_1', 'FLOORSMAX_AVG']] = imputer.transform(credit_train_8[['EXT_SOURCE_3','EXT_SOURCE_2','EXT_SOURCE_1', 'FLOORSMAX_AVG']])\n"
      ]
    },
    {
      "cell_type": "code",
      "execution_count": null,
      "metadata": {
        "colab": {
          "background_save": true
        },
        "id": "J8nEH0HHEIYF"
      },
      "outputs": [],
      "source": [
        "# credit_train_8.isnull().mean().round(4)*100"
      ]
    },
    {
      "cell_type": "code",
      "execution_count": 13,
      "metadata": {
        "colab": {
          "base_uri": "https://localhost:8080/",
          "height": 270
        },
        "id": "pO3mnHNjEL9h",
        "outputId": "114c721e-39a9-4b48-cd72-a277a5fff721"
      },
      "outputs": [
        {
          "data": {
            "text/html": [
              "\n",
              "  <div id=\"df-74920310-bcc6-4577-8575-3dfb88756131\">\n",
              "    <div class=\"colab-df-container\">\n",
              "      <div>\n",
              "<style scoped>\n",
              "    .dataframe tbody tr th:only-of-type {\n",
              "        vertical-align: middle;\n",
              "    }\n",
              "\n",
              "    .dataframe tbody tr th {\n",
              "        vertical-align: top;\n",
              "    }\n",
              "\n",
              "    .dataframe thead th {\n",
              "        text-align: right;\n",
              "    }\n",
              "</style>\n",
              "<table border=\"1\" class=\"dataframe\">\n",
              "  <thead>\n",
              "    <tr style=\"text-align: right;\">\n",
              "      <th></th>\n",
              "      <th>EXT_SOURCE_3</th>\n",
              "      <th>EXT_SOURCE_2</th>\n",
              "      <th>EXT_SOURCE_1</th>\n",
              "      <th>DAYS_EMPLOYED</th>\n",
              "      <th>FLOORSMAX_AVG</th>\n",
              "      <th>DAYS_LAST_PHONE_CHANGE</th>\n",
              "      <th>REGION_RATING_CLIENT</th>\n",
              "      <th>FLAG_EMP_PHONE</th>\n",
              "      <th>DAYS_BIRTH</th>\n",
              "      <th>TARGET</th>\n",
              "    </tr>\n",
              "  </thead>\n",
              "  <tbody>\n",
              "    <tr>\n",
              "      <th>0</th>\n",
              "      <td>0.171468</td>\n",
              "      <td>0.699373</td>\n",
              "      <td>0.000000</td>\n",
              "      <td>-813</td>\n",
              "      <td>0.1667</td>\n",
              "      <td>-589.0</td>\n",
              "      <td>2</td>\n",
              "      <td>1</td>\n",
              "      <td>-8676</td>\n",
              "      <td>0</td>\n",
              "    </tr>\n",
              "    <tr>\n",
              "      <th>1</th>\n",
              "      <td>0.768808</td>\n",
              "      <td>0.199651</td>\n",
              "      <td>0.541385</td>\n",
              "      <td>-223</td>\n",
              "      <td>0.0417</td>\n",
              "      <td>-1409.0</td>\n",
              "      <td>2</td>\n",
              "      <td>1</td>\n",
              "      <td>-13583</td>\n",
              "      <td>0</td>\n",
              "    </tr>\n",
              "    <tr>\n",
              "      <th>2</th>\n",
              "      <td>0.626304</td>\n",
              "      <td>0.704880</td>\n",
              "      <td>0.000000</td>\n",
              "      <td>-6202</td>\n",
              "      <td>0.0000</td>\n",
              "      <td>-675.0</td>\n",
              "      <td>2</td>\n",
              "      <td>1</td>\n",
              "      <td>-13993</td>\n",
              "      <td>0</td>\n",
              "    </tr>\n",
              "    <tr>\n",
              "      <th>3</th>\n",
              "      <td>0.810618</td>\n",
              "      <td>0.724576</td>\n",
              "      <td>0.000000</td>\n",
              "      <td>365243</td>\n",
              "      <td>0.0000</td>\n",
              "      <td>-1588.0</td>\n",
              "      <td>1</td>\n",
              "      <td>0</td>\n",
              "      <td>-22425</td>\n",
              "      <td>0</td>\n",
              "    </tr>\n",
              "    <tr>\n",
              "      <th>4</th>\n",
              "      <td>0.331251</td>\n",
              "      <td>0.706310</td>\n",
              "      <td>0.592466</td>\n",
              "      <td>-2763</td>\n",
              "      <td>0.1667</td>\n",
              "      <td>0.0</td>\n",
              "      <td>2</td>\n",
              "      <td>1</td>\n",
              "      <td>-18839</td>\n",
              "      <td>0</td>\n",
              "    </tr>\n",
              "  </tbody>\n",
              "</table>\n",
              "</div>\n",
              "      <button class=\"colab-df-convert\" onclick=\"convertToInteractive('df-74920310-bcc6-4577-8575-3dfb88756131')\"\n",
              "              title=\"Convert this dataframe to an interactive table.\"\n",
              "              style=\"display:none;\">\n",
              "        \n",
              "  <svg xmlns=\"http://www.w3.org/2000/svg\" height=\"24px\"viewBox=\"0 0 24 24\"\n",
              "       width=\"24px\">\n",
              "    <path d=\"M0 0h24v24H0V0z\" fill=\"none\"/>\n",
              "    <path d=\"M18.56 5.44l.94 2.06.94-2.06 2.06-.94-2.06-.94-.94-2.06-.94 2.06-2.06.94zm-11 1L8.5 8.5l.94-2.06 2.06-.94-2.06-.94L8.5 2.5l-.94 2.06-2.06.94zm10 10l.94 2.06.94-2.06 2.06-.94-2.06-.94-.94-2.06-.94 2.06-2.06.94z\"/><path d=\"M17.41 7.96l-1.37-1.37c-.4-.4-.92-.59-1.43-.59-.52 0-1.04.2-1.43.59L10.3 9.45l-7.72 7.72c-.78.78-.78 2.05 0 2.83L4 21.41c.39.39.9.59 1.41.59.51 0 1.02-.2 1.41-.59l7.78-7.78 2.81-2.81c.8-.78.8-2.07 0-2.86zM5.41 20L4 18.59l7.72-7.72 1.47 1.35L5.41 20z\"/>\n",
              "  </svg>\n",
              "      </button>\n",
              "      \n",
              "  <style>\n",
              "    .colab-df-container {\n",
              "      display:flex;\n",
              "      flex-wrap:wrap;\n",
              "      gap: 12px;\n",
              "    }\n",
              "\n",
              "    .colab-df-convert {\n",
              "      background-color: #E8F0FE;\n",
              "      border: none;\n",
              "      border-radius: 50%;\n",
              "      cursor: pointer;\n",
              "      display: none;\n",
              "      fill: #1967D2;\n",
              "      height: 32px;\n",
              "      padding: 0 0 0 0;\n",
              "      width: 32px;\n",
              "    }\n",
              "\n",
              "    .colab-df-convert:hover {\n",
              "      background-color: #E2EBFA;\n",
              "      box-shadow: 0px 1px 2px rgba(60, 64, 67, 0.3), 0px 1px 3px 1px rgba(60, 64, 67, 0.15);\n",
              "      fill: #174EA6;\n",
              "    }\n",
              "\n",
              "    [theme=dark] .colab-df-convert {\n",
              "      background-color: #3B4455;\n",
              "      fill: #D2E3FC;\n",
              "    }\n",
              "\n",
              "    [theme=dark] .colab-df-convert:hover {\n",
              "      background-color: #434B5C;\n",
              "      box-shadow: 0px 1px 3px 1px rgba(0, 0, 0, 0.15);\n",
              "      filter: drop-shadow(0px 1px 2px rgba(0, 0, 0, 0.3));\n",
              "      fill: #FFFFFF;\n",
              "    }\n",
              "  </style>\n",
              "\n",
              "      <script>\n",
              "        const buttonEl =\n",
              "          document.querySelector('#df-74920310-bcc6-4577-8575-3dfb88756131 button.colab-df-convert');\n",
              "        buttonEl.style.display =\n",
              "          google.colab.kernel.accessAllowed ? 'block' : 'none';\n",
              "\n",
              "        async function convertToInteractive(key) {\n",
              "          const element = document.querySelector('#df-74920310-bcc6-4577-8575-3dfb88756131');\n",
              "          const dataTable =\n",
              "            await google.colab.kernel.invokeFunction('convertToInteractive',\n",
              "                                                     [key], {});\n",
              "          if (!dataTable) return;\n",
              "\n",
              "          const docLinkHtml = 'Like what you see? Visit the ' +\n",
              "            '<a target=\"_blank\" href=https://colab.research.google.com/notebooks/data_table.ipynb>data table notebook</a>'\n",
              "            + ' to learn more about interactive tables.';\n",
              "          element.innerHTML = '';\n",
              "          dataTable['output_type'] = 'display_data';\n",
              "          await google.colab.output.renderOutput(dataTable, element);\n",
              "          const docLink = document.createElement('div');\n",
              "          docLink.innerHTML = docLinkHtml;\n",
              "          element.appendChild(docLink);\n",
              "        }\n",
              "      </script>\n",
              "    </div>\n",
              "  </div>\n",
              "  "
            ],
            "text/plain": [
              "   EXT_SOURCE_3  EXT_SOURCE_2  EXT_SOURCE_1  DAYS_EMPLOYED  FLOORSMAX_AVG  \\\n",
              "0      0.171468      0.699373      0.000000           -813         0.1667   \n",
              "1      0.768808      0.199651      0.541385           -223         0.0417   \n",
              "2      0.626304      0.704880      0.000000          -6202         0.0000   \n",
              "3      0.810618      0.724576      0.000000         365243         0.0000   \n",
              "4      0.331251      0.706310      0.592466          -2763         0.1667   \n",
              "\n",
              "   DAYS_LAST_PHONE_CHANGE  REGION_RATING_CLIENT  FLAG_EMP_PHONE  DAYS_BIRTH  \\\n",
              "0                  -589.0                     2               1       -8676   \n",
              "1                 -1409.0                     2               1      -13583   \n",
              "2                  -675.0                     2               1      -13993   \n",
              "3                 -1588.0                     1               0      -22425   \n",
              "4                     0.0                     2               1      -18839   \n",
              "\n",
              "   TARGET  \n",
              "0       0  \n",
              "1       0  \n",
              "2       0  \n",
              "3       0  \n",
              "4       0  "
            ]
          },
          "execution_count": 13,
          "metadata": {},
          "output_type": "execute_result"
        }
      ],
      "source": [
        "credit_train_8 = credit_train_8.fillna(0)\n",
        "credit_train_8.head()"
      ]
    },
    {
      "cell_type": "code",
      "execution_count": 14,
      "metadata": {
        "id": "MMBIl3FcENA3"
      },
      "outputs": [],
      "source": [
        "X = credit_train_8.drop(['TARGET'],axis=1).values\n",
        "y = credit_train_8[['TARGET']].values"
      ]
    },
    {
      "cell_type": "code",
      "execution_count": 15,
      "metadata": {
        "colab": {
          "base_uri": "https://localhost:8080/"
        },
        "id": "WIrbQsX1K6PY",
        "outputId": "d06a03f9-c975-4a41-9990-2807418c696b"
      },
      "outputs": [
        {
          "name": "stdout",
          "output_type": "stream",
          "text": [
            "246008\n",
            "246008\n"
          ]
        }
      ],
      "source": [
        "print(len(X))\n",
        "print(len(y))"
      ]
    },
    {
      "cell_type": "markdown",
      "metadata": {
        "id": "pNJTcBkdL2GO"
      },
      "source": [
        "**Ajustes de classes desbalanceadas**\n",
        "- Aqui é utilizada a classe SMOTE para ajustar o balanceamento dos dados.\n",
        "- https://imbalanced-learn.org/stable/references/generated/imblearn.over_sampling.SMOTE.html"
      ]
    },
    {
      "cell_type": "code",
      "execution_count": null,
      "metadata": {
        "colab": {
          "background_save": true
        },
        "id": "rT7Z04PFL4w4"
      },
      "outputs": [],
      "source": [
        "# smote = SMOTE()\n",
        "# X_smote, y_smote = smote.fit_resample(X, y)"
      ]
    },
    {
      "cell_type": "code",
      "execution_count": null,
      "metadata": {
        "colab": {
          "background_save": true
        },
        "id": "Vxf5kU-dO1X9"
      },
      "outputs": [],
      "source": [
        "# X_train, X_test, y_train, y_test = train_test_split(X_smote, y_smote, test_size=0.2, random_state=4)"
      ]
    },
    {
      "cell_type": "markdown",
      "metadata": {
        "id": "7W37YWnBS1II"
      },
      "source": [
        "**Aplicação do Pipeline**\n",
        "- Aplicação do Pipeline apenas nos dados de treino.\n",
        "- Cria uma função para o Grid Search CV.\n",
        "- Adiciona os parâmetros de classificação do KNN."
      ]
    },
    {
      "cell_type": "code",
      "execution_count": 16,
      "metadata": {
        "id": "pLHzPFXRP7lz"
      },
      "outputs": [],
      "source": [
        "def buildGridSearch(pipeline, \n",
        "                    param_grid):\n",
        "    \"\"\" \n",
        "    Recebe como parâmetros um pipeline e parâmetros dos modelos e retorna o método\n",
        "    GridSearchCV para selecionar os melhores parâmetros.\n",
        "    \"\"\"\n",
        "    return GridSearchCV(pipeline, param_grid, scoring = 'roc_auc',refit=True, verbose = 1, cv=5, n_jobs = -1)"
      ]
    },
    {
      "cell_type": "code",
      "execution_count": 17,
      "metadata": {
        "id": "FNattFKWS9iH"
      },
      "outputs": [],
      "source": [
        "param_ =  {\n",
        "    'classifier__n_neighbors': [1,3,6],\n",
        "    'classifier__leaf_size': [20,40,1],\n",
        "    'classifier__p': [1,2],\n",
        "    'classifier__weights': ['uniform', 'distance'],\n",
        "     'classifier__metric': ['minkowski','euclidean','manhattan']\n",
        "    }\n",
        "\n",
        "\n",
        "\n",
        "\n",
        "#não funciona com o Pipeline do sklearn\n",
        "pipe = imbPipeline(steps=[\n",
        "              ('num', SimpleImputer(strategy='median')),\n",
        "              ('normalization',StandardScaler()),\n",
        "              ('smote', SMOTE(random_state=5)),\n",
        "              ('classifier', KNeighborsClassifier())\n",
        "\n",
        "                ])"
      ]
    },
    {
      "cell_type": "markdown",
      "metadata": {
        "id": "u7JJ5iVBmots"
      },
      "source": [
        "- Separa os dados de treino e teste."
      ]
    },
    {
      "cell_type": "code",
      "execution_count": 18,
      "metadata": {
        "id": "uK-hgpY4Y_E6"
      },
      "outputs": [],
      "source": [
        "X_train, X_test, y_train, y_test = train_test_split(X, y, test_size=0.2, random_state=4)"
      ]
    },
    {
      "cell_type": "markdown",
      "metadata": {
        "id": "6AeNyw6lmOJG"
      },
      "source": [
        "- Aplicação do Pipeline com o GridSearch"
      ]
    },
    {
      "cell_type": "code",
      "execution_count": 24,
      "metadata": {
        "colab": {
          "base_uri": "https://localhost:8080/"
        },
        "id": "QfVpMoPeTZ4-",
        "outputId": "9a4565c9-5ce4-4137-fb2b-4746bbcce3db"
      },
      "outputs": [
        {
          "name": "stdout",
          "output_type": "stream",
          "text": [
            "Fitting 5 folds for each of 108 candidates, totalling 540 fits\n",
            "\n",
            "\n",
            "Métrica ROC: 0.6107123456899799\n"
          ]
        }
      ],
      "source": [
        "grid_ = buildGridSearch(pipe, param_).fit(X_train, y_train)\n",
        "\n",
        "predict_ = grid_.predict_proba(X_test)[:,1]\n",
        "\n",
        "roc_auc = roc_auc_score(y_test, predict_)\n",
        "\n",
        "print(\"\\n\")\n",
        "print(f\"Métrica ROC: {roc_auc}\")"
      ]
    },
    {
      "cell_type": "code",
      "execution_count": 25,
      "metadata": {
        "colab": {
          "base_uri": "https://localhost:8080/"
        },
        "id": "PoUkfNoSTrvT",
        "outputId": "5b1bf041-d7b0-4894-a17d-c7441044fb66"
      },
      "outputs": [
        {
          "data": {
            "text/plain": [
              "Pipeline(steps=[('num', SimpleImputer(strategy='median')),\n",
              "                ('normalization', StandardScaler()),\n",
              "                ('smote', SMOTE(random_state=5)),\n",
              "                ('classifier',\n",
              "                 KNeighborsClassifier(leaf_size=20, n_neighbors=6, p=1))])"
            ]
          },
          "execution_count": 25,
          "metadata": {},
          "output_type": "execute_result"
        }
      ],
      "source": [
        "grid_.best_estimator_"
      ]
    },
    {
      "cell_type": "code",
      "execution_count": 26,
      "metadata": {
        "id": "Gs_UJlB5zrbt"
      },
      "outputs": [],
      "source": [
        "best_clf = grid_.best_estimator_"
      ]
    },
    {
      "cell_type": "markdown",
      "metadata": {
        "id": "XFseS3Dcm28y"
      },
      "source": [
        "##Comentários\n",
        "- Ao adicionar mais parâmetros ao modelo no pipeline o modelo ficou mais lento.\n",
        "- Depois de aplicar os parâmetros o modelo KNN não melhorou significamente o resultado da métrica ROC-AUC."
      ]
    },
    {
      "cell_type": "markdown",
      "metadata": {
        "id": "E35RwmNgfzvf"
      },
      "source": [
        "**Ajuste nos dados de teste**\n",
        "- Seleção das colunas e ajuste nos valores que possuem zero para a base de teste."
      ]
    },
    {
      "cell_type": "code",
      "execution_count": 27,
      "metadata": {
        "id": "RpRtGiOYfgPz"
      },
      "outputs": [],
      "source": [
        "df_credit_test = df_credit_test[['SK_ID_CURR','EXT_SOURCE_3', 'EXT_SOURCE_2','EXT_SOURCE_1','DAYS_EMPLOYED',\n",
        "                                  'FLOORSMAX_AVG','DAYS_LAST_PHONE_CHANGE','REGION_RATING_CLIENT','FLAG_EMP_PHONE','DAYS_BIRTH',]]"
      ]
    },
    {
      "cell_type": "code",
      "execution_count": 28,
      "metadata": {
        "colab": {
          "base_uri": "https://localhost:8080/",
          "height": 270
        },
        "id": "pxYWCFuhheMT",
        "outputId": "6d791f10-615e-47c0-afcc-89fb0206ee7c"
      },
      "outputs": [
        {
          "data": {
            "text/html": [
              "\n",
              "  <div id=\"df-9697beb5-9c79-45ce-97c0-f56eeef19723\">\n",
              "    <div class=\"colab-df-container\">\n",
              "      <div>\n",
              "<style scoped>\n",
              "    .dataframe tbody tr th:only-of-type {\n",
              "        vertical-align: middle;\n",
              "    }\n",
              "\n",
              "    .dataframe tbody tr th {\n",
              "        vertical-align: top;\n",
              "    }\n",
              "\n",
              "    .dataframe thead th {\n",
              "        text-align: right;\n",
              "    }\n",
              "</style>\n",
              "<table border=\"1\" class=\"dataframe\">\n",
              "  <thead>\n",
              "    <tr style=\"text-align: right;\">\n",
              "      <th></th>\n",
              "      <th>SK_ID_CURR</th>\n",
              "      <th>EXT_SOURCE_3</th>\n",
              "      <th>EXT_SOURCE_2</th>\n",
              "      <th>EXT_SOURCE_1</th>\n",
              "      <th>DAYS_EMPLOYED</th>\n",
              "      <th>FLOORSMAX_AVG</th>\n",
              "      <th>DAYS_LAST_PHONE_CHANGE</th>\n",
              "      <th>REGION_RATING_CLIENT</th>\n",
              "      <th>FLAG_EMP_PHONE</th>\n",
              "      <th>DAYS_BIRTH</th>\n",
              "    </tr>\n",
              "  </thead>\n",
              "  <tbody>\n",
              "    <tr>\n",
              "      <th>0</th>\n",
              "      <td>149741</td>\n",
              "      <td>0.145543</td>\n",
              "      <td>0.182710</td>\n",
              "      <td>0.484936</td>\n",
              "      <td>-2125</td>\n",
              "      <td>0.0000</td>\n",
              "      <td>-2008.0</td>\n",
              "      <td>3</td>\n",
              "      <td>1</td>\n",
              "      <td>-21774</td>\n",
              "    </tr>\n",
              "    <tr>\n",
              "      <th>1</th>\n",
              "      <td>363290</td>\n",
              "      <td>0.680139</td>\n",
              "      <td>0.669053</td>\n",
              "      <td>0.624574</td>\n",
              "      <td>-2055</td>\n",
              "      <td>0.6250</td>\n",
              "      <td>-728.0</td>\n",
              "      <td>1</td>\n",
              "      <td>1</td>\n",
              "      <td>-18499</td>\n",
              "    </tr>\n",
              "    <tr>\n",
              "      <th>2</th>\n",
              "      <td>436006</td>\n",
              "      <td>0.173527</td>\n",
              "      <td>0.454279</td>\n",
              "      <td>0.000000</td>\n",
              "      <td>-4159</td>\n",
              "      <td>0.3333</td>\n",
              "      <td>-1273.0</td>\n",
              "      <td>2</td>\n",
              "      <td>1</td>\n",
              "      <td>-18084</td>\n",
              "    </tr>\n",
              "    <tr>\n",
              "      <th>3</th>\n",
              "      <td>377703</td>\n",
              "      <td>0.440058</td>\n",
              "      <td>0.688145</td>\n",
              "      <td>0.000000</td>\n",
              "      <td>-2532</td>\n",
              "      <td>0.0000</td>\n",
              "      <td>-984.0</td>\n",
              "      <td>2</td>\n",
              "      <td>1</td>\n",
              "      <td>-12319</td>\n",
              "    </tr>\n",
              "    <tr>\n",
              "      <th>4</th>\n",
              "      <td>188624</td>\n",
              "      <td>0.081726</td>\n",
              "      <td>0.426409</td>\n",
              "      <td>0.000000</td>\n",
              "      <td>-2516</td>\n",
              "      <td>0.1667</td>\n",
              "      <td>0.0</td>\n",
              "      <td>3</td>\n",
              "      <td>1</td>\n",
              "      <td>-10151</td>\n",
              "    </tr>\n",
              "  </tbody>\n",
              "</table>\n",
              "</div>\n",
              "      <button class=\"colab-df-convert\" onclick=\"convertToInteractive('df-9697beb5-9c79-45ce-97c0-f56eeef19723')\"\n",
              "              title=\"Convert this dataframe to an interactive table.\"\n",
              "              style=\"display:none;\">\n",
              "        \n",
              "  <svg xmlns=\"http://www.w3.org/2000/svg\" height=\"24px\"viewBox=\"0 0 24 24\"\n",
              "       width=\"24px\">\n",
              "    <path d=\"M0 0h24v24H0V0z\" fill=\"none\"/>\n",
              "    <path d=\"M18.56 5.44l.94 2.06.94-2.06 2.06-.94-2.06-.94-.94-2.06-.94 2.06-2.06.94zm-11 1L8.5 8.5l.94-2.06 2.06-.94-2.06-.94L8.5 2.5l-.94 2.06-2.06.94zm10 10l.94 2.06.94-2.06 2.06-.94-2.06-.94-.94-2.06-.94 2.06-2.06.94z\"/><path d=\"M17.41 7.96l-1.37-1.37c-.4-.4-.92-.59-1.43-.59-.52 0-1.04.2-1.43.59L10.3 9.45l-7.72 7.72c-.78.78-.78 2.05 0 2.83L4 21.41c.39.39.9.59 1.41.59.51 0 1.02-.2 1.41-.59l7.78-7.78 2.81-2.81c.8-.78.8-2.07 0-2.86zM5.41 20L4 18.59l7.72-7.72 1.47 1.35L5.41 20z\"/>\n",
              "  </svg>\n",
              "      </button>\n",
              "      \n",
              "  <style>\n",
              "    .colab-df-container {\n",
              "      display:flex;\n",
              "      flex-wrap:wrap;\n",
              "      gap: 12px;\n",
              "    }\n",
              "\n",
              "    .colab-df-convert {\n",
              "      background-color: #E8F0FE;\n",
              "      border: none;\n",
              "      border-radius: 50%;\n",
              "      cursor: pointer;\n",
              "      display: none;\n",
              "      fill: #1967D2;\n",
              "      height: 32px;\n",
              "      padding: 0 0 0 0;\n",
              "      width: 32px;\n",
              "    }\n",
              "\n",
              "    .colab-df-convert:hover {\n",
              "      background-color: #E2EBFA;\n",
              "      box-shadow: 0px 1px 2px rgba(60, 64, 67, 0.3), 0px 1px 3px 1px rgba(60, 64, 67, 0.15);\n",
              "      fill: #174EA6;\n",
              "    }\n",
              "\n",
              "    [theme=dark] .colab-df-convert {\n",
              "      background-color: #3B4455;\n",
              "      fill: #D2E3FC;\n",
              "    }\n",
              "\n",
              "    [theme=dark] .colab-df-convert:hover {\n",
              "      background-color: #434B5C;\n",
              "      box-shadow: 0px 1px 3px 1px rgba(0, 0, 0, 0.15);\n",
              "      filter: drop-shadow(0px 1px 2px rgba(0, 0, 0, 0.3));\n",
              "      fill: #FFFFFF;\n",
              "    }\n",
              "  </style>\n",
              "\n",
              "      <script>\n",
              "        const buttonEl =\n",
              "          document.querySelector('#df-9697beb5-9c79-45ce-97c0-f56eeef19723 button.colab-df-convert');\n",
              "        buttonEl.style.display =\n",
              "          google.colab.kernel.accessAllowed ? 'block' : 'none';\n",
              "\n",
              "        async function convertToInteractive(key) {\n",
              "          const element = document.querySelector('#df-9697beb5-9c79-45ce-97c0-f56eeef19723');\n",
              "          const dataTable =\n",
              "            await google.colab.kernel.invokeFunction('convertToInteractive',\n",
              "                                                     [key], {});\n",
              "          if (!dataTable) return;\n",
              "\n",
              "          const docLinkHtml = 'Like what you see? Visit the ' +\n",
              "            '<a target=\"_blank\" href=https://colab.research.google.com/notebooks/data_table.ipynb>data table notebook</a>'\n",
              "            + ' to learn more about interactive tables.';\n",
              "          element.innerHTML = '';\n",
              "          dataTable['output_type'] = 'display_data';\n",
              "          await google.colab.output.renderOutput(dataTable, element);\n",
              "          const docLink = document.createElement('div');\n",
              "          docLink.innerHTML = docLinkHtml;\n",
              "          element.appendChild(docLink);\n",
              "        }\n",
              "      </script>\n",
              "    </div>\n",
              "  </div>\n",
              "  "
            ],
            "text/plain": [
              "   SK_ID_CURR  EXT_SOURCE_3  EXT_SOURCE_2  EXT_SOURCE_1  DAYS_EMPLOYED  \\\n",
              "0      149741      0.145543      0.182710      0.484936          -2125   \n",
              "1      363290      0.680139      0.669053      0.624574          -2055   \n",
              "2      436006      0.173527      0.454279      0.000000          -4159   \n",
              "3      377703      0.440058      0.688145      0.000000          -2532   \n",
              "4      188624      0.081726      0.426409      0.000000          -2516   \n",
              "\n",
              "   FLOORSMAX_AVG  DAYS_LAST_PHONE_CHANGE  REGION_RATING_CLIENT  \\\n",
              "0         0.0000                 -2008.0                     3   \n",
              "1         0.6250                  -728.0                     1   \n",
              "2         0.3333                 -1273.0                     2   \n",
              "3         0.0000                  -984.0                     2   \n",
              "4         0.1667                     0.0                     3   \n",
              "\n",
              "   FLAG_EMP_PHONE  DAYS_BIRTH  \n",
              "0               1      -21774  \n",
              "1               1      -18499  \n",
              "2               1      -18084  \n",
              "3               1      -12319  \n",
              "4               1      -10151  "
            ]
          },
          "execution_count": 28,
          "metadata": {},
          "output_type": "execute_result"
        }
      ],
      "source": [
        "df_credit_test = df_credit_test.fillna(0)\n",
        "df_credit_test.head()"
      ]
    },
    {
      "cell_type": "markdown",
      "metadata": {
        "id": "XR0ZZr9tmw_p"
      },
      "source": [
        "- Aplicação dos dados de teste"
      ]
    },
    {
      "cell_type": "code",
      "execution_count": 29,
      "metadata": {
        "id": "CNZzFwdWhyP4"
      },
      "outputs": [],
      "source": [
        "#aplica previsão ao dataframe\n",
        "preds = best_clf.predict_proba(df_credit_test[['EXT_SOURCE_3', 'EXT_SOURCE_2','EXT_SOURCE_1','DAYS_EMPLOYED',\n",
        "                                  'FLOORSMAX_AVG','DAYS_LAST_PHONE_CHANGE','REGION_RATING_CLIENT','FLAG_EMP_PHONE','DAYS_BIRTH']].values)[:,1]"
      ]
    },
    {
      "cell_type": "code",
      "execution_count": 30,
      "metadata": {
        "colab": {
          "base_uri": "https://localhost:8080/"
        },
        "id": "H2qH9D_yklEj",
        "outputId": "acbdb11d-4f82-46ca-8448-9dbbf7731602"
      },
      "outputs": [
        {
          "name": "stdout",
          "output_type": "stream",
          "text": [
            "   SK_ID_CURR      PRED\n",
            "0      149741  0.666667\n",
            "1      363290  0.000000\n",
            "2      436006  0.833333\n",
            "3      377703  0.000000\n",
            "4      188624  0.833333\n"
          ]
        }
      ],
      "source": [
        "df = pd.DataFrame(data = preds, columns=['PRED'], \n",
        "                  index=df_credit_test.index.copy())\n",
        "\n",
        "df_final = pd.merge(df_credit_test[['SK_ID_CURR']], df, how = 'left', left_index = True, right_index = True)\n",
        "\n",
        "print(df_final.head())"
      ]
    }
  ],
  "metadata": {
    "colab": {
      "collapsed_sections": [],
      "machine_shape": "hm",
      "provenance": []
    },
    "kernelspec": {
      "display_name": "Python 3",
      "name": "python3"
    },
    "language_info": {
      "name": "python"
    }
  },
  "nbformat": 4,
  "nbformat_minor": 0
}
