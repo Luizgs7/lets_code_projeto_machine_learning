{
  "cells": [
    {
      "cell_type": "markdown",
      "metadata": {
        "id": "tc3sAvCGm8H8"
      },
      "source": [
        " ### Descrição dos resultados dos modelos"
      ]
    },
    {
      "cell_type": "markdown",
      "metadata": {
        "id": "LHwkohCOnRLB"
      },
      "source": [
        "**Árvore de Decisão**"
      ]
    },
    {
      "cell_type": "markdown",
      "metadata": {
        "id": "W6bFakZknX3l"
      },
      "source": [
        "- \n",
        "-"
      ]
    },
    {
      "cell_type": "markdown",
      "metadata": {
        "id": "6f5V-EBTnWtE"
      },
      "source": [
        "**Random Forest**\n",
        "\n",
        "*   \n",
        "*\n",
        "\n"
      ]
    },
    {
      "cell_type": "markdown",
      "metadata": {
        "id": "VMV7uWOpnt68"
      },
      "source": [
        "**KNN**\n",
        "\n",
        "- Quando K=5 observamos no gráfico que a taxa de erro é menor que 10%, por isso selecionamos esses valores para K.\n",
        "- Já no segundo gráfico se aumentarmos o número K é possível perceber que o nível de acurácia do modelo tende a cair.\n",
        "- A métrica ROC foi de 0.88. Para a classe 0 o modelo obteve precisão de 0.90, já para classe 1 0.87."
      ]
    },
    {
      "cell_type": "markdown",
      "metadata": {
        "id": "NajWEba7nw9K"
      },
      "source": [
        "**Naive Bayes**\n",
        "\n",
        "- \n",
        "- "
      ]
    }
  ],
  "metadata": {
    "colab": {
      "provenance": []
    },
    "kernelspec": {
      "display_name": "Python 3",
      "name": "python3"
    },
    "language_info": {
      "name": "python"
    }
  },
  "nbformat": 4,
  "nbformat_minor": 0
}
